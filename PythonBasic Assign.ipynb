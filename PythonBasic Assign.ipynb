{
 "cells": [
  {
   "cell_type": "code",
   "execution_count": 13,
   "id": "4c91ecd0-a2b9-43f1-8b8b-52c1878597e2",
   "metadata": {},
   "outputs": [
    {
     "name": "stdout",
     "output_type": "stream",
     "text": [
      "30\n",
      "20\n",
      "10 20\n"
     ]
    }
   ],
   "source": [
    "#Swaping of two number without using temp variable\n",
    "x=20\n",
    "y=10\n",
    "x=x+y #add first number into second(20+10)=30\n",
    "y=x-y #substract second number from first(30-10)=20\n",
    "print(x)\n",
    "print(y)\n",
    "x=x-y  #substract y from x(30-20) \n",
    "print(x,y) "
   ]
  },
  {
   "cell_type": "code",
   "execution_count": 18,
   "id": "dbe80d32-cb91-44d5-9f0d-8f2e513c71ed",
   "metadata": {},
   "outputs": [
    {
     "name": "stdin",
     "output_type": "stream",
     "text": [
      "enter the length 2\n",
      "enter the width 3\n"
     ]
    },
    {
     "name": "stdout",
     "output_type": "stream",
     "text": [
      "Area of Rectangle 6\n"
     ]
    }
   ],
   "source": [
    "#Area of Rectangle\n",
    "l=int(input(\"enter the length\"))\n",
    "b=int(input(\"enter the width\"))\n",
    "a=l*b #formula area of rectangle (L*B)\n",
    "print(\"Area of Rectangle\",a)\n"
   ]
  },
  {
   "cell_type": "code",
   "execution_count": 22,
   "id": "5f729786-9633-4226-a530-c34192bd552e",
   "metadata": {},
   "outputs": [
    {
     "name": "stdin",
     "output_type": "stream",
     "text": [
      "enter the length 2\n"
     ]
    },
    {
     "name": "stdout",
     "output_type": "stream",
     "text": [
      "Fahrenheit 35.6\n"
     ]
    }
   ],
   "source": [
    "#Celsius to Fahrenheit.\n",
    "temp=int(input(\"enter the length\"))\n",
    "F = temp * (9/5) + 32. #formula for convert celsius into fahrenheit \n",
    "print(\"Fahrenheit\",F)\n"
   ]
  },
  {
   "cell_type": "code",
   "execution_count": 24,
   "id": "cb9a355c-2aac-437f-b4a6-6471180ae9fa",
   "metadata": {},
   "outputs": [
    {
     "name": "stdin",
     "output_type": "stream",
     "text": [
      "enter the string komal\n"
     ]
    },
    {
     "name": "stdout",
     "output_type": "stream",
     "text": [
      "5\n"
     ]
    }
   ],
   "source": [
    "#prints the length of the string.\n",
    "a=input(\"enter the string\")\n",
    "b=len(a)\n",
    "print(b)"
   ]
  },
  {
   "cell_type": "code",
   "execution_count": 30,
   "id": "df449147-b69e-4f4b-8b22-918c64abbbbf",
   "metadata": {},
   "outputs": [
    {
     "name": "stdin",
     "output_type": "stream",
     "text": [
      "enter the sentence komal\n"
     ]
    },
    {
     "name": "stdout",
     "output_type": "stream",
     "text": [
      "2\n"
     ]
    }
   ],
   "source": [
    "#count the vowels from the sentence\n",
    "a=input(\"enter the sentence\")\n",
    "vowels=\"a,e,i,o,u,A,E,I,O,U\"\n",
    "b=sum(a.count(vowel)for vowel in vowels)\n",
    "print(b)"
   ]
  },
  {
   "cell_type": "code",
   "execution_count": 58,
   "id": "a1bf398a-868b-4d6f-97d3-fa83dd900f2a",
   "metadata": {},
   "outputs": [
    {
     "data": {
      "text/plain": [
       "'lamok'"
      ]
     },
     "execution_count": 58,
     "metadata": {},
     "output_type": "execute_result"
    }
   ],
   "source": [
    "#Reverse the String\n",
    "a=\"komal\"\n",
    "a[::-1]"
   ]
  },
  {
   "cell_type": "code",
   "execution_count": 65,
   "id": "7bb37445-75ba-4d86-b613-65b9aee66905",
   "metadata": {},
   "outputs": [
    {
     "data": {
      "text/plain": [
       "'lamok'"
      ]
     },
     "execution_count": 65,
     "metadata": {},
     "output_type": "execute_result"
    }
   ],
   "source": [
    "a[-1::-1]"
   ]
  },
  {
   "cell_type": "code",
   "execution_count": 85,
   "id": "4b82dffc-3c42-4358-8edc-df5a99c3dcf6",
   "metadata": {},
   "outputs": [
    {
     "name": "stdin",
     "output_type": "stream",
     "text": [
      "enter the string toot\n"
     ]
    },
    {
     "data": {
      "text/plain": [
       "True"
      ]
     },
     "execution_count": 85,
     "metadata": {},
     "output_type": "execute_result"
    }
   ],
   "source": [
    "#Palindrome\n",
    "a=input(\"enter the string\")\n",
    "b=a[::-1] # reversed the string\n",
    "a==b  # compare entered string with reversed string"
   ]
  },
  {
   "cell_type": "code",
   "execution_count": 86,
   "id": "0d97e609-46c0-45ff-bd80-652026e13827",
   "metadata": {},
   "outputs": [
    {
     "name": "stdin",
     "output_type": "stream",
     "text": [
      "enter the string komal\n"
     ]
    },
    {
     "data": {
      "text/plain": [
       "False"
      ]
     },
     "execution_count": 86,
     "metadata": {},
     "output_type": "execute_result"
    }
   ],
   "source": [
    "#Palindrome\n",
    "a=input(\"enter the string\")\n",
    "b=a[::-1] # reversed the string\n",
    "a==b  # compare entered string with reversed string"
   ]
  },
  {
   "cell_type": "code",
   "execution_count": 93,
   "id": "83155ab8-4648-46ff-9680-10e91466c497",
   "metadata": {},
   "outputs": [
    {
     "name": "stdin",
     "output_type": "stream",
     "text": [
      "enter the string k o m a l\n"
     ]
    },
    {
     "name": "stdout",
     "output_type": "stream",
     "text": [
      "komal\n"
     ]
    }
   ],
   "source": [
    "#Remove spaces from string\n",
    "a=input(\"enter the string\")\n",
    "b=a.replace(\" \",\"\")\n",
    "print(b)"
   ]
  },
  {
   "cell_type": "code",
   "execution_count": null,
   "id": "f0da7148-4ca2-442b-8373-9cdba91644ff",
   "metadata": {},
   "outputs": [],
   "source": []
  }
 ],
 "metadata": {
  "kernelspec": {
   "display_name": "Python 3 (ipykernel)",
   "language": "python",
   "name": "python3"
  },
  "language_info": {
   "codemirror_mode": {
    "name": "ipython",
    "version": 3
   },
   "file_extension": ".py",
   "mimetype": "text/x-python",
   "name": "python",
   "nbconvert_exporter": "python",
   "pygments_lexer": "ipython3",
   "version": "3.10.8"
  }
 },
 "nbformat": 4,
 "nbformat_minor": 5
}
